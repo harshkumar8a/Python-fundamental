{
  "cells": [
    {
      "cell_type": "markdown",
      "metadata": {
        "id": "view-in-github",
        "colab_type": "text"
      },
      "source": [
        "<a href=\"https://colab.research.google.com/github/harshkumar8a/Python-fundamental/blob/main/Numpy_Learning.ipynb\" target=\"_parent\"><img src=\"https://colab.research.google.com/assets/colab-badge.svg\" alt=\"Open In Colab\"/></a>"
      ]
    },
    {
      "cell_type": "markdown",
      "id": "e73809e9-4851-4af6-9b47-19545419f2e9",
      "metadata": {
        "id": "e73809e9-4851-4af6-9b47-19545419f2e9"
      },
      "source": [
        "Import numpy Dependency"
      ]
    },
    {
      "cell_type": "code",
      "execution_count": 1,
      "id": "d9a95655-906d-49e1-9d9e-5345807ce030",
      "metadata": {
        "id": "d9a95655-906d-49e1-9d9e-5345807ce030"
      },
      "outputs": [],
      "source": [
        "import numpy as np"
      ]
    },
    {
      "cell_type": "markdown",
      "source": [
        "creating array using np.array"
      ],
      "metadata": {
        "id": "7enj-8uQd69U"
      },
      "id": "7enj-8uQd69U"
    },
    {
      "cell_type": "code",
      "execution_count": 2,
      "id": "c60e0d4d-3209-4c2c-8851-d985aab8ad41",
      "metadata": {
        "colab": {
          "base_uri": "https://localhost:8080/"
        },
        "id": "c60e0d4d-3209-4c2c-8851-d985aab8ad41",
        "outputId": "05eeff39-8267-4f57-d10c-e8d463329a74"
      },
      "outputs": [
        {
          "output_type": "stream",
          "name": "stdout",
          "text": [
            "[1 2 3 4 5]\n"
          ]
        }
      ],
      "source": [
        "# 1- Array --> printing 1d arrray using numpy\n",
        "a = np.array([1,2,3,4,5])\n",
        "print(a)"
      ]
    },
    {
      "cell_type": "code",
      "execution_count": 3,
      "id": "9eb6fa3e-0c4a-4675-98ac-49aa8e48b695",
      "metadata": {
        "colab": {
          "base_uri": "https://localhost:8080/"
        },
        "id": "9eb6fa3e-0c4a-4675-98ac-49aa8e48b695",
        "outputId": "018466ca-b861-4c5c-9d11-4664ffb4551a"
      },
      "outputs": [
        {
          "output_type": "stream",
          "name": "stdout",
          "text": [
            "[[1 2 3]\n",
            " [4 5 6]\n",
            " [7 8 9]]\n"
          ]
        }
      ],
      "source": [
        "# 2- Array\n",
        "a = np.array([[1,2,3],[4,5,6],[7,8,9]])\n",
        "print(a)"
      ]
    },
    {
      "cell_type": "code",
      "execution_count": 4,
      "id": "001cde68-38a5-4ab0-beb5-825eb034bc19",
      "metadata": {
        "colab": {
          "base_uri": "https://localhost:8080/"
        },
        "id": "001cde68-38a5-4ab0-beb5-825eb034bc19",
        "outputId": "876071d6-27ea-42e5-8327-15730ad81584"
      },
      "outputs": [
        {
          "output_type": "stream",
          "name": "stdout",
          "text": [
            "[[[1 2 3]\n",
            "  [4 5 6]]\n",
            "\n",
            " [[7 8 9]\n",
            "  [1 2 3]]]\n"
          ]
        }
      ],
      "source": [
        "# 3- Array\n",
        "a = np.array([[[1,2,3],[4,5,6]],[[7,8,9],[1,2,3]]])\n",
        "print(a)"
      ]
    },
    {
      "cell_type": "markdown",
      "source": [
        "dtype use for converting from one datatype to another datatype"
      ],
      "metadata": {
        "id": "L5Jy5W2cQZx2"
      },
      "id": "L5Jy5W2cQZx2"
    },
    {
      "cell_type": "code",
      "execution_count": 5,
      "id": "933445b5-bf6c-4e2d-944b-dae8962f219a",
      "metadata": {
        "colab": {
          "base_uri": "https://localhost:8080/"
        },
        "id": "933445b5-bf6c-4e2d-944b-dae8962f219a",
        "outputId": "fbbed7d6-d994-4616-add9-d2fd841d2449"
      },
      "outputs": [
        {
          "output_type": "execute_result",
          "data": {
            "text/plain": [
              "array([1., 2., 3.])"
            ]
          },
          "metadata": {},
          "execution_count": 5
        }
      ],
      "source": [
        "# dtype\n",
        "np.array([1,2,3],dtype = float)"
      ]
    },
    {
      "cell_type": "markdown",
      "source": [
        "numpy.arange() function is used to create an array of evenly spaced values within a given interval"
      ],
      "metadata": {
        "id": "Y9BIDslMQ0g7"
      },
      "id": "Y9BIDslMQ0g7"
    },
    {
      "cell_type": "code",
      "execution_count": 8,
      "id": "842340f4-03a1-4a6f-a257-079b315cf19d",
      "metadata": {
        "colab": {
          "base_uri": "https://localhost:8080/"
        },
        "id": "842340f4-03a1-4a6f-a257-079b315cf19d",
        "outputId": "bd82b6b3-b8d6-490a-95fa-e4d7de9336bc"
      },
      "outputs": [
        {
          "output_type": "stream",
          "name": "stdout",
          "text": [
            "[1 5 9]\n",
            "[ 2  4  6  8 10 12 14 16 18 20]\n"
          ]
        }
      ],
      "source": [
        "# np.arange\n",
        "print(np.arange(1,11,4))\n",
        "print(np.arange(2,21,2))"
      ]
    },
    {
      "cell_type": "markdown",
      "source": [
        " reshape() function in NumPy is used to change the shape of a NumPy array without altering its data"
      ],
      "metadata": {
        "id": "H1kjh57NRJbc"
      },
      "id": "H1kjh57NRJbc"
    },
    {
      "cell_type": "code",
      "execution_count": null,
      "id": "d7369a95-f36a-4bbd-be7f-5b9b57f9dcd7",
      "metadata": {
        "id": "d7369a95-f36a-4bbd-be7f-5b9b57f9dcd7",
        "outputId": "4a7684e9-b308-4e5c-8fc8-314ee2e6983c"
      },
      "outputs": [
        {
          "data": {
            "text/plain": [
              "array([[ 1,  2,  3,  4],\n",
              "       [ 5,  6,  7,  8],\n",
              "       [ 9, 10, 11, 12]])"
            ]
          },
          "execution_count": 17,
          "metadata": {},
          "output_type": "execute_result"
        }
      ],
      "source": [
        "# with reshape\n",
        "np.arange(1,13).reshape(3,4)"
      ]
    },
    {
      "cell_type": "markdown",
      "source": [
        "numpy.ones() function returns a new array of given shape and type, with ones."
      ],
      "metadata": {
        "id": "NWb1KfqXRZ6m"
      },
      "id": "NWb1KfqXRZ6m"
    },
    {
      "cell_type": "code",
      "execution_count": null,
      "id": "7143f359-757c-4459-9393-907b29fc2a67",
      "metadata": {
        "id": "7143f359-757c-4459-9393-907b29fc2a67",
        "outputId": "abd6b6dd-0b5b-4230-da24-685255d6803e"
      },
      "outputs": [
        {
          "data": {
            "text/plain": [
              "array([[1, 1, 1, 1],\n",
              "       [1, 1, 1, 1],\n",
              "       [1, 1, 1, 1]])"
            ]
          },
          "execution_count": 26,
          "metadata": {},
          "output_type": "execute_result"
        }
      ],
      "source": [
        "# np.ones and\n",
        "np.ones((3,4),dtype = int)"
      ]
    },
    {
      "cell_type": "markdown",
      "source": [
        "numpy.zeroes() function returns a new array of given shape and type, with zeroes."
      ],
      "metadata": {
        "id": "B3YbSmaWRjtW"
      },
      "id": "B3YbSmaWRjtW"
    },
    {
      "cell_type": "code",
      "execution_count": null,
      "id": "49232026-8698-40b6-a099-1e6dec18b3ad",
      "metadata": {
        "id": "49232026-8698-40b6-a099-1e6dec18b3ad",
        "outputId": "9a70f0d5-7d6e-4338-d212-f25183a1f927"
      },
      "outputs": [
        {
          "data": {
            "text/plain": [
              "array([[0, 0, 0, 0],\n",
              "       [0, 0, 0, 0],\n",
              "       [0, 0, 0, 0]])"
            ]
          },
          "execution_count": 30,
          "metadata": {},
          "output_type": "execute_result"
        }
      ],
      "source": [
        "# np.zeroes\n",
        "np.zeros((3,4),dtype = int)"
      ]
    },
    {
      "cell_type": "code",
      "execution_count": 9,
      "id": "6d7b3b70-b7c6-419b-ad0c-2c72113b0c13",
      "metadata": {
        "colab": {
          "base_uri": "https://localhost:8080/"
        },
        "id": "6d7b3b70-b7c6-419b-ad0c-2c72113b0c13",
        "outputId": "f9f27724-feac-4611-a74b-3022267d10b5"
      },
      "outputs": [
        {
          "output_type": "execute_result",
          "data": {
            "text/plain": [
              "array([[0.54522566, 0.97305955, 0.8949903 ],\n",
              "       [0.75715068, 0.30529836, 0.43230545],\n",
              "       [0.61907267, 0.35941802, 0.91634613]])"
            ]
          },
          "metadata": {},
          "execution_count": 9
        }
      ],
      "source": [
        "# np.random\n",
        "np.random.random((3,3))"
      ]
    },
    {
      "cell_type": "markdown",
      "source": [
        "linspace function from NumPy creates an array of evenly spaced numbers over a specified interval,useful when needing a specific number of points within a range, unlike arange which relies on a step size"
      ],
      "metadata": {
        "id": "EhcQY7-ESMp1"
      },
      "id": "EhcQY7-ESMp1"
    },
    {
      "cell_type": "code",
      "execution_count": 10,
      "id": "b7ecb719-77dd-4b2d-94c2-06318869144f",
      "metadata": {
        "colab": {
          "base_uri": "https://localhost:8080/"
        },
        "id": "b7ecb719-77dd-4b2d-94c2-06318869144f",
        "outputId": "f45abd8a-9e76-4671-881b-cad97fde81e3"
      },
      "outputs": [
        {
          "output_type": "execute_result",
          "data": {
            "text/plain": [
              "array([-10.        ,  -8.94736842,  -7.89473684,  -6.84210526,\n",
              "        -5.78947368,  -4.73684211,  -3.68421053,  -2.63157895,\n",
              "        -1.57894737,  -0.52631579,   0.52631579,   1.57894737,\n",
              "         2.63157895,   3.68421053,   4.73684211,   5.78947368,\n",
              "         6.84210526,   7.89473684,   8.94736842,  10.        ])"
            ]
          },
          "metadata": {},
          "execution_count": 10
        }
      ],
      "source": [
        "# np.linspace ----> (b/w two point distance is always same)\n",
        "np.linspace(-10,10,20)"
      ]
    },
    {
      "cell_type": "markdown",
      "source": [
        "np.identity(),  return the identity matrix"
      ],
      "metadata": {
        "id": "cBHwsPHLR2km"
      },
      "id": "cBHwsPHLR2km"
    },
    {
      "cell_type": "code",
      "execution_count": null,
      "id": "300fec79-b83d-4766-be81-c76c72679281",
      "metadata": {
        "id": "300fec79-b83d-4766-be81-c76c72679281",
        "outputId": "d1a9d71e-6553-4652-bd3b-27c4b3d4b72c"
      },
      "outputs": [
        {
          "data": {
            "text/plain": [
              "array([[1, 0, 0],\n",
              "       [0, 1, 0],\n",
              "       [0, 0, 1]])"
            ]
          },
          "execution_count": 23,
          "metadata": {},
          "output_type": "execute_result"
        }
      ],
      "source": [
        "# np.identity\n",
        "np.identity((3),dtype = int)"
      ]
    },
    {
      "cell_type": "code",
      "execution_count": null,
      "id": "c4efbb7d-a484-47ea-95eb-ba2fe5b4f2bf",
      "metadata": {
        "id": "c4efbb7d-a484-47ea-95eb-ba2fe5b4f2bf"
      },
      "outputs": [],
      "source": []
    },
    {
      "cell_type": "code",
      "execution_count": 14,
      "id": "504a2b1c-e15a-4496-b195-a1a9cc3084b5",
      "metadata": {
        "id": "504a2b1c-e15a-4496-b195-a1a9cc3084b5"
      },
      "outputs": [],
      "source": [
        ""
      ]
    },
    {
      "cell_type": "markdown",
      "id": "f5d15304-f7d5-4f98-ba08-5ba51c1c0eaa",
      "metadata": {
        "id": "f5d15304-f7d5-4f98-ba08-5ba51c1c0eaa"
      },
      "source": [
        "# Array Attribute"
      ]
    },
    {
      "cell_type": "code",
      "execution_count": 12,
      "id": "a15325cc-1fab-4da3-a677-65c4a252ac3f",
      "metadata": {
        "id": "a15325cc-1fab-4da3-a677-65c4a252ac3f"
      },
      "outputs": [],
      "source": [
        "a1 = np.arange(10)   # ---> vector\n",
        "a2 = np.arange(12,dtype = float).reshape(3,4) # ---> Matrix\n",
        "a3 = np.arange(8,dtype = np.int64).reshape(2,2,2)   # ---> tensor\n"
      ]
    },
    {
      "cell_type": "markdown",
      "source": [
        "ndarray.ndim in NumPy returns the number of dimensions of a NumPy array. It is an attribute of the ndarray object, which represents an n-dimensional array. Scalars have ndim of 0, vectors have ndim of 1, matrices have ndim of 2, and so on."
      ],
      "metadata": {
        "id": "bKE5yWN9TCFh"
      },
      "id": "bKE5yWN9TCFh"
    },
    {
      "cell_type": "code",
      "execution_count": 13,
      "id": "1efb7692-ca87-4605-b49b-37d882bfbe96",
      "metadata": {
        "colab": {
          "base_uri": "https://localhost:8080/"
        },
        "id": "1efb7692-ca87-4605-b49b-37d882bfbe96",
        "outputId": "7e60fc3e-6c67-4808-fa87-cb2d4ae54042"
      },
      "outputs": [
        {
          "output_type": "stream",
          "name": "stdout",
          "text": [
            "1\n",
            "2\n",
            "3\n"
          ]
        }
      ],
      "source": [
        "# ndim (dimension)\n",
        "print(a1.ndim)\n",
        "print(a2.ndim)\n",
        "print(a3.ndim)"
      ]
    },
    {
      "cell_type": "markdown",
      "source": [
        "shape, reutrn how many column and row in the datasets\n"
      ],
      "metadata": {
        "id": "VaJ13sH-TGFb"
      },
      "id": "VaJ13sH-TGFb"
    },
    {
      "cell_type": "code",
      "execution_count": null,
      "id": "5c1adfd6-7e2e-49bd-9d16-3fc23391b0ed",
      "metadata": {
        "id": "5c1adfd6-7e2e-49bd-9d16-3fc23391b0ed",
        "outputId": "79024ba5-131b-4f69-8759-000de7b60a21"
      },
      "outputs": [
        {
          "data": {
            "text/plain": [
              "(3, 4)"
            ]
          },
          "execution_count": 73,
          "metadata": {},
          "output_type": "execute_result"
        }
      ],
      "source": [
        "# shape\n",
        "a2.shape"
      ]
    },
    {
      "cell_type": "markdown",
      "source": [
        "size denote how many value present in it"
      ],
      "metadata": {
        "id": "BVbvoED0TNT1"
      },
      "id": "BVbvoED0TNT1"
    },
    {
      "cell_type": "code",
      "execution_count": null,
      "id": "b94a0cdb-6b98-49cb-a0b4-5bae6441330f",
      "metadata": {
        "id": "b94a0cdb-6b98-49cb-a0b4-5bae6441330f",
        "outputId": "886e9fa0-e004-4e11-d371-4d2c206090f4"
      },
      "outputs": [
        {
          "name": "stdout",
          "output_type": "stream",
          "text": [
            "12\n"
          ]
        }
      ],
      "source": [
        "# Size\n",
        "print(a2.size)"
      ]
    },
    {
      "cell_type": "code",
      "execution_count": null,
      "id": "1cdc25dc-08f4-42c5-935e-0e9ae70adcc3",
      "metadata": {
        "id": "1cdc25dc-08f4-42c5-935e-0e9ae70adcc3",
        "outputId": "0b02bd9b-fb2e-47bf-adb1-fe7cc571a84b"
      },
      "outputs": [
        {
          "data": {
            "text/plain": [
              "8"
            ]
          },
          "execution_count": 91,
          "metadata": {},
          "output_type": "execute_result"
        }
      ],
      "source": [
        "# itemsize\n",
        "a3.itemsize"
      ]
    },
    {
      "cell_type": "code",
      "execution_count": null,
      "id": "d34fcbd0-46ff-41a6-8532-8b01b269db92",
      "metadata": {
        "id": "d34fcbd0-46ff-41a6-8532-8b01b269db92",
        "outputId": "1618bf4b-0538-4229-f441-8d0d2b5c05f6"
      },
      "outputs": [
        {
          "name": "stdout",
          "output_type": "stream",
          "text": [
            "int32\n",
            "float64\n",
            "int64\n"
          ]
        }
      ],
      "source": [
        "# dtype\n",
        "print(a1.dtype)\n",
        "print(a2.dtype)\n",
        "print(a3.dtype)"
      ]
    },
    {
      "cell_type": "code",
      "execution_count": null,
      "id": "8287415c-4e49-411c-9ff0-1b34a6d3a3ee",
      "metadata": {
        "id": "8287415c-4e49-411c-9ff0-1b34a6d3a3ee"
      },
      "outputs": [],
      "source": []
    },
    {
      "cell_type": "code",
      "execution_count": null,
      "id": "f9c9e5c8-42fb-4a21-8c26-07e0153597f8",
      "metadata": {
        "id": "f9c9e5c8-42fb-4a21-8c26-07e0153597f8"
      },
      "outputs": [],
      "source": []
    },
    {
      "cell_type": "markdown",
      "id": "0cdffa93-6bde-4609-b891-af4b87f87c40",
      "metadata": {
        "id": "0cdffa93-6bde-4609-b891-af4b87f87c40"
      },
      "source": [
        "# Changing Datatype"
      ]
    },
    {
      "cell_type": "markdown",
      "source": [
        "astype() method returns a new DataFrame where the data types has been changed to the specified type"
      ],
      "metadata": {
        "id": "yNtkaZxieMcg"
      },
      "id": "yNtkaZxieMcg"
    },
    {
      "cell_type": "code",
      "execution_count": null,
      "id": "45df1b65-688b-4a26-a64e-c537221c27a5",
      "metadata": {
        "id": "45df1b65-688b-4a26-a64e-c537221c27a5",
        "outputId": "b69ede12-1c05-4488-a7bb-455101ff7780"
      },
      "outputs": [
        {
          "data": {
            "text/plain": [
              "array([[[0, 1],\n",
              "        [2, 3]],\n",
              "\n",
              "       [[4, 5],\n",
              "        [6, 7]]])"
            ]
          },
          "execution_count": 94,
          "metadata": {},
          "output_type": "execute_result"
        }
      ],
      "source": [
        "# astype\n",
        "a3.astype(np.int32)"
      ]
    },
    {
      "cell_type": "code",
      "execution_count": null,
      "id": "15d66c4a-5d26-42d5-8c74-0cc29c2dc03d",
      "metadata": {
        "id": "15d66c4a-5d26-42d5-8c74-0cc29c2dc03d"
      },
      "outputs": [],
      "source": []
    },
    {
      "cell_type": "markdown",
      "id": "d9c2dbe2-a72b-4947-9482-c688a90cd931",
      "metadata": {
        "id": "d9c2dbe2-a72b-4947-9482-c688a90cd931"
      },
      "source": [
        "# Array Operation"
      ]
    },
    {
      "cell_type": "code",
      "execution_count": null,
      "id": "53fc1be9-3827-453d-86f1-8c92fac516ce",
      "metadata": {
        "id": "53fc1be9-3827-453d-86f1-8c92fac516ce"
      },
      "outputs": [],
      "source": [
        "a1 = np.arange(12).reshape(3,4)\n",
        "a2 = np.arange(12,24).reshape(3,4)"
      ]
    },
    {
      "cell_type": "code",
      "execution_count": null,
      "id": "b61e7bf4-cc64-410c-affe-7deaf4c0fd95",
      "metadata": {
        "id": "b61e7bf4-cc64-410c-affe-7deaf4c0fd95",
        "outputId": "39e87a19-6ab3-4afe-cea4-8358685b6719"
      },
      "outputs": [
        {
          "data": {
            "text/plain": [
              "array([[  0,   1,   4,   9],\n",
              "       [ 16,  25,  36,  49],\n",
              "       [ 64,  81, 100, 121]])"
            ]
          },
          "execution_count": 103,
          "metadata": {},
          "output_type": "execute_result"
        }
      ],
      "source": [
        "# scalar operation\n",
        "\n",
        "# arithmetic\n",
        "a1 ** 2"
      ]
    },
    {
      "cell_type": "code",
      "execution_count": null,
      "id": "aae13f5e-3d6a-4601-91c3-93e0fd71a6d1",
      "metadata": {
        "id": "aae13f5e-3d6a-4601-91c3-93e0fd71a6d1",
        "outputId": "e5858c3c-7fd6-46e6-db58-1bb6ef8b6d7e"
      },
      "outputs": [
        {
          "data": {
            "text/plain": [
              "array([[False, False, False, False],\n",
              "       [False, False,  True,  True],\n",
              "       [ True,  True,  True,  True]])"
            ]
          },
          "execution_count": 105,
          "metadata": {},
          "output_type": "execute_result"
        }
      ],
      "source": [
        "# Relational\n",
        "a1 > 5"
      ]
    },
    {
      "cell_type": "code",
      "execution_count": null,
      "id": "8f4ed488-ab23-4502-b122-3daab15a4668",
      "metadata": {
        "id": "8f4ed488-ab23-4502-b122-3daab15a4668",
        "outputId": "ed3211a3-5a5b-4276-94a0-a6fa95f0fb3d"
      },
      "outputs": [
        {
          "data": {
            "text/plain": [
              "array([[12, 14, 16, 18],\n",
              "       [20, 22, 24, 26],\n",
              "       [28, 30, 32, 34]])"
            ]
          },
          "execution_count": 107,
          "metadata": {},
          "output_type": "execute_result"
        }
      ],
      "source": [
        "# Vector operation\n",
        "\n",
        "# Arithmetic\n",
        "a1 + a2"
      ]
    },
    {
      "cell_type": "code",
      "execution_count": null,
      "id": "e0e03dc9-868a-4760-8b09-e9c898a2cf0d",
      "metadata": {
        "id": "e0e03dc9-868a-4760-8b09-e9c898a2cf0d"
      },
      "outputs": [],
      "source": []
    },
    {
      "cell_type": "code",
      "execution_count": null,
      "id": "d714f31f-e351-4d13-949c-c32a1be870e9",
      "metadata": {
        "id": "d714f31f-e351-4d13-949c-c32a1be870e9"
      },
      "outputs": [],
      "source": []
    },
    {
      "cell_type": "markdown",
      "id": "4f75d07b-2977-468b-80bc-c6affcdffd17",
      "metadata": {
        "id": "4f75d07b-2977-468b-80bc-c6affcdffd17"
      },
      "source": [
        "# Array Functions"
      ]
    },
    {
      "cell_type": "code",
      "execution_count": null,
      "id": "92896b37-281e-4a3f-ac95-7f5bda64ea1b",
      "metadata": {
        "id": "92896b37-281e-4a3f-ac95-7f5bda64ea1b",
        "outputId": "8ca10c7a-5853-4143-98e1-4ce856b2ee0a"
      },
      "outputs": [
        {
          "data": {
            "text/plain": [
              "array([[98., 67., 22.],\n",
              "       [99., 51., 83.],\n",
              "       [ 8., 18., 46.]])"
            ]
          },
          "execution_count": 113,
          "metadata": {},
          "output_type": "execute_result"
        }
      ],
      "source": [
        "a1 = np.random.random((3,3))\n",
        "a1 = np.round(a1*100)\n",
        "a1"
      ]
    },
    {
      "cell_type": "code",
      "execution_count": null,
      "id": "ed5524b9-1855-401c-8f92-e2a8a94de0a7",
      "metadata": {
        "id": "ed5524b9-1855-401c-8f92-e2a8a94de0a7",
        "outputId": "da6cd874-0389-472c-a7ed-1871ec453c67"
      },
      "outputs": [
        {
          "name": "stdout",
          "output_type": "stream",
          "text": [
            "[22. 51.  8.]\n",
            "99.0\n",
            "492.0\n",
            "400984279065216.0\n"
          ]
        }
      ],
      "source": [
        "# min/max/sum/prod\n",
        "# 0 --> Columns and 1 --> Rows\n",
        "print(np.min(a1,axis = 1))\n",
        "print(np.max(a1))\n",
        "print(np.sum(a1))\n",
        "print(np.prod(a1))"
      ]
    },
    {
      "cell_type": "code",
      "execution_count": null,
      "id": "57c9abf4-92fe-4563-90d1-61a1402f5098",
      "metadata": {
        "id": "57c9abf4-92fe-4563-90d1-61a1402f5098",
        "outputId": "4cbd0a09-bbf4-4187-8c2a-8c90bc8857a7"
      },
      "outputs": [
        {
          "name": "stdout",
          "output_type": "stream",
          "text": [
            "[62.33333333 77.66666667 24.        ]\n",
            "[67. 83. 18.]\n",
            "[31.2018518  19.95550606 16.08311744]\n",
            "[973.55555556 398.22222222 258.66666667]\n"
          ]
        }
      ],
      "source": [
        "# mean/median/std/var\n",
        "print(np.mean(a1,axis=1))\n",
        "print(np.median(a1,axis=1))\n",
        "print(np.std(a1,axis=1))\n",
        "print(np.var(a1,axis=1))"
      ]
    },
    {
      "cell_type": "code",
      "execution_count": null,
      "id": "5f9ddb71-641e-4ebf-82d6-67b03333c201",
      "metadata": {
        "id": "5f9ddb71-641e-4ebf-82d6-67b03333c201",
        "outputId": "c08c0833-2adf-471b-f9dd-1fb8b6c1b094"
      },
      "outputs": [
        {
          "data": {
            "text/plain": [
              "array([[-0.57338187, -0.85551998, -0.00885131],\n",
              "       [-0.99920683,  0.67022918,  0.96836446],\n",
              "       [ 0.98935825, -0.75098725,  0.90178835]])"
            ]
          },
          "execution_count": 131,
          "metadata": {},
          "output_type": "execute_result"
        }
      ],
      "source": [
        "# trigonometric function\n",
        "np.sin(a1)"
      ]
    },
    {
      "cell_type": "code",
      "execution_count": null,
      "id": "e2861443-002c-4cfb-a919-aaafa329c6da",
      "metadata": {
        "id": "e2861443-002c-4cfb-a919-aaafa329c6da"
      },
      "outputs": [],
      "source": [
        "# dot product ( fist matrix columns should be equal to second matrix row)\n",
        "a2 = np.arange(12).reshape(3,4)\n",
        "a3 = np.arange(12,24).reshape(4,3)"
      ]
    },
    {
      "cell_type": "code",
      "execution_count": null,
      "id": "bc68fca3-67cf-4dea-a05c-5624bbce4425",
      "metadata": {
        "id": "bc68fca3-67cf-4dea-a05c-5624bbce4425",
        "outputId": "5b9a3c7a-6833-4800-9aaf-5780ea792bd9"
      },
      "outputs": [
        {
          "data": {
            "text/plain": [
              "array([[114, 120, 126],\n",
              "       [378, 400, 422],\n",
              "       [642, 680, 718]])"
            ]
          },
          "execution_count": 137,
          "metadata": {},
          "output_type": "execute_result"
        }
      ],
      "source": [
        "np.dot(a2,a3)"
      ]
    },
    {
      "cell_type": "code",
      "execution_count": null,
      "id": "7ad7bfe8-fe8a-4f84-83f8-653aa182e9bb",
      "metadata": {
        "id": "7ad7bfe8-fe8a-4f84-83f8-653aa182e9bb",
        "outputId": "e9e2fa1d-8cc0-4bc9-d171-a2f46dd8db1b"
      },
      "outputs": [
        {
          "data": {
            "text/plain": [
              "array([[4.58496748, 4.20469262, 3.09104245],\n",
              "       [4.59511985, 3.93182563, 4.41884061],\n",
              "       [2.07944154, 2.89037176, 3.8286414 ]])"
            ]
          },
          "execution_count": 139,
          "metadata": {},
          "output_type": "execute_result"
        }
      ],
      "source": [
        "# log and exponents\n",
        "np.log(a1)"
      ]
    },
    {
      "cell_type": "code",
      "execution_count": null,
      "id": "8b542dd8-5ec6-40da-ae4c-51e4c64b0b5e",
      "metadata": {
        "id": "8b542dd8-5ec6-40da-ae4c-51e4c64b0b5e",
        "outputId": "17a3803f-75bd-4eb6-8e6b-76d8ec3c841f"
      },
      "outputs": [
        {
          "name": "stdout",
          "output_type": "stream",
          "text": [
            "[[83. 23. 20.]\n",
            " [59. 57. 38.]]\n",
            "\n",
            "[[55. 30. 90.]\n",
            " [21. 47. 87.]]\n",
            "\n",
            "[[54.  7. 60.]\n",
            " [60. 63. 35.]]\n"
          ]
        }
      ],
      "source": [
        "# round/floor/ceil\n",
        "print(np.round(np.random.random((2,3))*100))\n",
        "print()\n",
        "print(np.floor(np.random.random((2,3))*100))\n",
        "print()\n",
        "print(np.ceil(np.random.random((2,3))*100))"
      ]
    },
    {
      "cell_type": "code",
      "execution_count": null,
      "id": "046cf806-2da1-4767-8e10-c56becbb3df4",
      "metadata": {
        "id": "046cf806-2da1-4767-8e10-c56becbb3df4"
      },
      "outputs": [],
      "source": []
    },
    {
      "cell_type": "code",
      "execution_count": null,
      "id": "a13ab07a-5d14-4d6a-aa45-ec0fdca97cbf",
      "metadata": {
        "id": "a13ab07a-5d14-4d6a-aa45-ec0fdca97cbf"
      },
      "outputs": [],
      "source": []
    },
    {
      "cell_type": "markdown",
      "id": "68e16cc3-72a7-4e9e-893d-ad97c9daa694",
      "metadata": {
        "id": "68e16cc3-72a7-4e9e-893d-ad97c9daa694"
      },
      "source": [
        "# Indexing And Slicing"
      ]
    },
    {
      "cell_type": "code",
      "execution_count": null,
      "id": "88c79e19-a4da-4a51-b020-6602d7a04b6e",
      "metadata": {
        "id": "88c79e19-a4da-4a51-b020-6602d7a04b6e"
      },
      "outputs": [],
      "source": [
        "a1 = np.arange(10)\n",
        "a2 = np.arange(12).reshape(3,4)\n",
        "a3 = np.arange(8).reshape(2,2,2)"
      ]
    },
    {
      "cell_type": "code",
      "execution_count": null,
      "id": "b2614b8a-3748-46f9-9b73-99644c0c3363",
      "metadata": {
        "id": "b2614b8a-3748-46f9-9b73-99644c0c3363",
        "outputId": "65eef494-0814-4710-cc3d-d8b1ca98c741"
      },
      "outputs": [
        {
          "data": {
            "text/plain": [
              "array([0, 1, 2, 3, 4, 5, 6, 7, 8, 9])"
            ]
          },
          "execution_count": 154,
          "metadata": {},
          "output_type": "execute_result"
        }
      ],
      "source": [
        "a1"
      ]
    },
    {
      "cell_type": "code",
      "execution_count": null,
      "id": "ddb19ce1-9ef5-47ed-8add-feaf2dc94dd5",
      "metadata": {
        "id": "ddb19ce1-9ef5-47ed-8add-feaf2dc94dd5",
        "outputId": "4d205fb7-4b7a-4bba-af8b-8bff60c68b07"
      },
      "outputs": [
        {
          "data": {
            "text/plain": [
              "9"
            ]
          },
          "execution_count": 156,
          "metadata": {},
          "output_type": "execute_result"
        }
      ],
      "source": [
        "# indexing (1d Araay)\n",
        "a1[-1]"
      ]
    },
    {
      "cell_type": "code",
      "execution_count": null,
      "id": "dcb9732f-8071-432d-b337-4fc84a6ffa0c",
      "metadata": {
        "id": "dcb9732f-8071-432d-b337-4fc84a6ffa0c",
        "outputId": "0dabaf78-73f9-4cda-e390-72c780f7465d"
      },
      "outputs": [
        {
          "data": {
            "text/plain": [
              "array([[ 0,  1,  2,  3],\n",
              "       [ 4,  5,  6,  7],\n",
              "       [ 8,  9, 10, 11]])"
            ]
          },
          "execution_count": 158,
          "metadata": {},
          "output_type": "execute_result"
        }
      ],
      "source": [
        "a2"
      ]
    },
    {
      "cell_type": "code",
      "execution_count": null,
      "id": "96330091-0fcd-4f44-aded-0cc24a3c9f15",
      "metadata": {
        "id": "96330091-0fcd-4f44-aded-0cc24a3c9f15",
        "outputId": "08d9a835-e408-4518-d916-f1d338a316a7"
      },
      "outputs": [
        {
          "data": {
            "text/plain": [
              "6"
            ]
          },
          "execution_count": 162,
          "metadata": {},
          "output_type": "execute_result"
        }
      ],
      "source": [
        "a2[1,2]"
      ]
    },
    {
      "cell_type": "code",
      "execution_count": null,
      "id": "0c6309c1-27ec-47b6-a226-f19ed552cb9f",
      "metadata": {
        "id": "0c6309c1-27ec-47b6-a226-f19ed552cb9f",
        "outputId": "93bb78ac-104f-4ec0-b0de-9a1a45c4e8d0"
      },
      "outputs": [
        {
          "data": {
            "text/plain": [
              "array([[[0, 1],\n",
              "        [2, 3]],\n",
              "\n",
              "       [[4, 5],\n",
              "        [6, 7]]])"
            ]
          },
          "execution_count": 164,
          "metadata": {},
          "output_type": "execute_result"
        }
      ],
      "source": [
        "a3"
      ]
    },
    {
      "cell_type": "code",
      "execution_count": null,
      "id": "6ffd37c0-a5b8-4bda-afe1-2c676de4ea7a",
      "metadata": {
        "id": "6ffd37c0-a5b8-4bda-afe1-2c676de4ea7a",
        "outputId": "56213375-3a5d-4c70-8d14-b2187413d07f"
      },
      "outputs": [
        {
          "data": {
            "text/plain": [
              "1"
            ]
          },
          "execution_count": 172,
          "metadata": {},
          "output_type": "execute_result"
        }
      ],
      "source": [
        "a3[0,0,1]"
      ]
    },
    {
      "cell_type": "code",
      "execution_count": null,
      "id": "fe235cac-2a28-4e46-a673-837a7e9fdbf0",
      "metadata": {
        "id": "fe235cac-2a28-4e46-a673-837a7e9fdbf0",
        "outputId": "0c844c0b-b600-4bf7-99b5-81412253169f"
      },
      "outputs": [
        {
          "data": {
            "text/plain": [
              "array([2, 3, 4, 5])"
            ]
          },
          "execution_count": 174,
          "metadata": {},
          "output_type": "execute_result"
        }
      ],
      "source": [
        "# slicing\n",
        "a1[2:6]"
      ]
    },
    {
      "cell_type": "code",
      "execution_count": null,
      "id": "b53be6d8-97fc-40ed-b7e7-bd5477dd4b35",
      "metadata": {
        "id": "b53be6d8-97fc-40ed-b7e7-bd5477dd4b35",
        "outputId": "095f2b3a-93bf-4f83-a940-21ae280dab39"
      },
      "outputs": [
        {
          "data": {
            "text/plain": [
              "array([[ 0,  1,  2,  3],\n",
              "       [ 4,  5,  6,  7],\n",
              "       [ 8,  9, 10, 11]])"
            ]
          },
          "execution_count": 176,
          "metadata": {},
          "output_type": "execute_result"
        }
      ],
      "source": [
        "a2"
      ]
    },
    {
      "cell_type": "code",
      "execution_count": null,
      "id": "a236d3f5-865f-4d15-ad87-69c6d9e8a9d3",
      "metadata": {
        "id": "a236d3f5-865f-4d15-ad87-69c6d9e8a9d3",
        "outputId": "0b606ac7-8c90-4c68-e559-6dc03326bc77"
      },
      "outputs": [
        {
          "data": {
            "text/plain": [
              "array([ 8,  9, 10, 11])"
            ]
          },
          "execution_count": 178,
          "metadata": {},
          "output_type": "execute_result"
        }
      ],
      "source": [
        "a2[2,:]"
      ]
    },
    {
      "cell_type": "code",
      "execution_count": null,
      "id": "8ea39ff6-dc1e-46f1-a6b1-170c0d2dc21d",
      "metadata": {
        "id": "8ea39ff6-dc1e-46f1-a6b1-170c0d2dc21d",
        "outputId": "e2c23d4a-657a-4c47-a622-4c75d339a92e"
      },
      "outputs": [
        {
          "data": {
            "text/plain": [
              "array([ 3,  7, 11])"
            ]
          },
          "execution_count": 180,
          "metadata": {},
          "output_type": "execute_result"
        }
      ],
      "source": [
        "a2[:,3]"
      ]
    },
    {
      "cell_type": "code",
      "execution_count": null,
      "id": "3de93975-c541-414c-88ff-d8a29524eaf4",
      "metadata": {
        "id": "3de93975-c541-414c-88ff-d8a29524eaf4",
        "outputId": "3c1dfe30-0020-46a8-9b7c-12a67a4bf480"
      },
      "outputs": [
        {
          "data": {
            "text/plain": [
              "array([[ 0,  3],\n",
              "       [ 8, 11]])"
            ]
          },
          "execution_count": 182,
          "metadata": {},
          "output_type": "execute_result"
        }
      ],
      "source": [
        "a2[::2,::3]"
      ]
    },
    {
      "cell_type": "code",
      "execution_count": null,
      "id": "91cdab86-07d2-4ecc-9782-e0feaa4127b3",
      "metadata": {
        "id": "91cdab86-07d2-4ecc-9782-e0feaa4127b3",
        "outputId": "3640b5f0-0294-43bb-b2ac-809f32ff5492"
      },
      "outputs": [
        {
          "data": {
            "text/plain": [
              "array([[ 1,  3],\n",
              "       [ 9, 11]])"
            ]
          },
          "execution_count": 184,
          "metadata": {},
          "output_type": "execute_result"
        }
      ],
      "source": [
        "a2[::2,1::2]"
      ]
    },
    {
      "cell_type": "code",
      "execution_count": null,
      "id": "4f1ae46f-3537-4fee-a30d-628a73a1f36c",
      "metadata": {
        "id": "4f1ae46f-3537-4fee-a30d-628a73a1f36c",
        "outputId": "e63c4f31-ae18-4596-caf8-91bfe49efed8"
      },
      "outputs": [
        {
          "data": {
            "text/plain": [
              "array([[1, 2, 3],\n",
              "       [5, 6, 7]])"
            ]
          },
          "execution_count": 186,
          "metadata": {},
          "output_type": "execute_result"
        }
      ],
      "source": [
        "a2[0:2,1:]"
      ]
    },
    {
      "cell_type": "code",
      "execution_count": null,
      "id": "3693dc88-cd27-4693-abe9-6ca53788011e",
      "metadata": {
        "id": "3693dc88-cd27-4693-abe9-6ca53788011e",
        "outputId": "981091f3-2750-4125-cce7-3c4b99bcf525"
      },
      "outputs": [
        {
          "name": "stdout",
          "output_type": "stream",
          "text": [
            "0\n",
            "1\n",
            "2\n",
            "3\n",
            "4\n",
            "5\n",
            "6\n",
            "7\n"
          ]
        }
      ],
      "source": [
        "for i in np.nditer(a3): # it's convert 3d array to 2d\n",
        "    print(i)"
      ]
    },
    {
      "cell_type": "code",
      "execution_count": null,
      "id": "bfdb9f2a-8201-4e1d-a1da-9a3013ff5584",
      "metadata": {
        "id": "bfdb9f2a-8201-4e1d-a1da-9a3013ff5584"
      },
      "outputs": [],
      "source": []
    },
    {
      "cell_type": "code",
      "execution_count": null,
      "id": "c0bd1f97-ef08-444f-b029-1b81669c7d47",
      "metadata": {
        "id": "c0bd1f97-ef08-444f-b029-1b81669c7d47",
        "outputId": "708f9293-6b51-49b5-faef-745f5c70a40d"
      },
      "outputs": [
        {
          "data": {
            "text/plain": [
              "array([[ 0,  4,  8],\n",
              "       [ 1,  5,  9],\n",
              "       [ 2,  6, 10],\n",
              "       [ 3,  7, 11]])"
            ]
          },
          "execution_count": 36,
          "metadata": {},
          "output_type": "execute_result"
        }
      ],
      "source": [
        "# Transpose\n",
        "np.transpose(a2)\n",
        "a2.T"
      ]
    },
    {
      "cell_type": "code",
      "execution_count": null,
      "id": "2be2f2c2-dd76-4de3-a77f-3c8be8195eab",
      "metadata": {
        "id": "2be2f2c2-dd76-4de3-a77f-3c8be8195eab",
        "outputId": "65ff5851-e7e1-446a-8efd-d2eced9d9897"
      },
      "outputs": [
        {
          "data": {
            "text/plain": [
              "array([ 0,  1,  2,  3,  4,  5,  6,  7,  8,  9, 10, 11])"
            ]
          },
          "execution_count": 38,
          "metadata": {},
          "output_type": "execute_result"
        }
      ],
      "source": [
        "# ravel\n",
        "a2.ravel()"
      ]
    },
    {
      "cell_type": "code",
      "execution_count": null,
      "id": "367c4909-b9dc-494b-819e-231d3069731a",
      "metadata": {
        "id": "367c4909-b9dc-494b-819e-231d3069731a"
      },
      "outputs": [],
      "source": []
    },
    {
      "cell_type": "markdown",
      "id": "ab7504a5-939d-422d-943e-1a72cb8db3ad",
      "metadata": {
        "id": "ab7504a5-939d-422d-943e-1a72cb8db3ad"
      },
      "source": [
        "# Stacking"
      ]
    },
    {
      "cell_type": "code",
      "execution_count": null,
      "id": "4849bae4-73df-4445-b3d7-64cda76c9577",
      "metadata": {
        "id": "4849bae4-73df-4445-b3d7-64cda76c9577"
      },
      "outputs": [],
      "source": [
        "a4 = np.arange(12).reshape(3,4)\n",
        "a5 = np.arange(12,24).reshape(3,4)"
      ]
    },
    {
      "cell_type": "code",
      "execution_count": null,
      "id": "ab8daab2-d54d-4168-8fa7-44dc8093e05c",
      "metadata": {
        "id": "ab8daab2-d54d-4168-8fa7-44dc8093e05c",
        "outputId": "f838c079-9660-4e89-eea9-ce69628ce8fe"
      },
      "outputs": [
        {
          "data": {
            "text/plain": [
              "array([[ 0,  1,  2,  3, 12, 13, 14, 15],\n",
              "       [ 4,  5,  6,  7, 16, 17, 18, 19],\n",
              "       [ 8,  9, 10, 11, 20, 21, 22, 23]])"
            ]
          },
          "execution_count": 43,
          "metadata": {},
          "output_type": "execute_result"
        }
      ],
      "source": [
        "# horizontal stacking\n",
        "np.hstack((a4,a5))"
      ]
    },
    {
      "cell_type": "code",
      "execution_count": null,
      "id": "997e3a34-09e5-4360-b877-4e90b456b148",
      "metadata": {
        "id": "997e3a34-09e5-4360-b877-4e90b456b148",
        "outputId": "932640d2-99cb-4149-da22-a024b426db03"
      },
      "outputs": [
        {
          "data": {
            "text/plain": [
              "array([[ 0,  1,  2,  3],\n",
              "       [ 4,  5,  6,  7],\n",
              "       [ 8,  9, 10, 11],\n",
              "       [12, 13, 14, 15],\n",
              "       [16, 17, 18, 19],\n",
              "       [20, 21, 22, 23]])"
            ]
          },
          "execution_count": 47,
          "metadata": {},
          "output_type": "execute_result"
        }
      ],
      "source": [
        "# vertical stacking\n",
        "np.vstack((a4,a5))"
      ]
    },
    {
      "cell_type": "code",
      "execution_count": null,
      "id": "27335247-a511-4a53-869d-e5b8c770ebdf",
      "metadata": {
        "id": "27335247-a511-4a53-869d-e5b8c770ebdf"
      },
      "outputs": [],
      "source": []
    },
    {
      "cell_type": "markdown",
      "id": "33b045fa-9aa2-4b7a-8af5-943e431a10ac",
      "metadata": {
        "id": "33b045fa-9aa2-4b7a-8af5-943e431a10ac"
      },
      "source": [
        "# Splitting"
      ]
    },
    {
      "cell_type": "code",
      "execution_count": null,
      "id": "d12468d3-5582-46fb-bda2-79d06674aca2",
      "metadata": {
        "id": "d12468d3-5582-46fb-bda2-79d06674aca2",
        "outputId": "92774c1a-0088-4f60-fc13-de4d937ee428"
      },
      "outputs": [
        {
          "data": {
            "text/plain": [
              "[array([[0, 1],\n",
              "        [4, 5],\n",
              "        [8, 9]]),\n",
              " array([[ 2,  3],\n",
              "        [ 6,  7],\n",
              "        [10, 11]])]"
            ]
          },
          "execution_count": 54,
          "metadata": {},
          "output_type": "execute_result"
        }
      ],
      "source": [
        "# horizontal splitting\n",
        "np.hsplit(a4,2)"
      ]
    },
    {
      "cell_type": "code",
      "execution_count": null,
      "id": "93772035-e238-47c0-be6a-42f988e8e459",
      "metadata": {
        "id": "93772035-e238-47c0-be6a-42f988e8e459",
        "outputId": "77483f20-2bba-4360-b99e-d96ffb8779a4"
      },
      "outputs": [
        {
          "data": {
            "text/plain": [
              "[array([[12],\n",
              "        [16],\n",
              "        [20]]),\n",
              " array([[13],\n",
              "        [17],\n",
              "        [21]]),\n",
              " array([[14],\n",
              "        [18],\n",
              "        [22]]),\n",
              " array([[15],\n",
              "        [19],\n",
              "        [23]])]"
            ]
          },
          "execution_count": 60,
          "metadata": {},
          "output_type": "execute_result"
        }
      ],
      "source": [
        "# vertical  splitting\n",
        "np.hsplit(a5,4)"
      ]
    },
    {
      "cell_type": "code",
      "execution_count": null,
      "id": "d80c63cc-9d20-4d57-b4f7-9ce565fe630d",
      "metadata": {
        "id": "d80c63cc-9d20-4d57-b4f7-9ce565fe630d"
      },
      "outputs": [],
      "source": []
    },
    {
      "cell_type": "code",
      "execution_count": null,
      "id": "05eca673-43c1-473a-aec2-7ef98cfd5404",
      "metadata": {
        "id": "05eca673-43c1-473a-aec2-7ef98cfd5404"
      },
      "outputs": [],
      "source": []
    },
    {
      "cell_type": "code",
      "execution_count": null,
      "id": "11226c51-8046-4c4e-a9b0-eb95af12e168",
      "metadata": {
        "id": "11226c51-8046-4c4e-a9b0-eb95af12e168"
      },
      "outputs": [],
      "source": []
    },
    {
      "cell_type": "markdown",
      "id": "80bd8157-d480-472d-a4f4-d045f48e9576",
      "metadata": {
        "id": "80bd8157-d480-472d-a4f4-d045f48e9576"
      },
      "source": [
        "# Numpy array vs python list"
      ]
    },
    {
      "cell_type": "code",
      "execution_count": null,
      "id": "fbf3c3cc-b336-4f73-94d8-87c46a2d6dee",
      "metadata": {
        "id": "fbf3c3cc-b336-4f73-94d8-87c46a2d6dee",
        "outputId": "310c775e-0456-495d-cd0c-3d45ce1a3460"
      },
      "outputs": [
        {
          "name": "stdout",
          "output_type": "stream",
          "text": [
            "2.9204180240631104\n"
          ]
        }
      ],
      "source": [
        "# speed\n",
        "# list\n",
        "a = [i for i in range(10000000)]\n",
        "b = [i for i in range(10000000,20000000)]\n",
        "c = []\n",
        "import time\n",
        "start = time.time()\n",
        "for i in range(len(a)):\n",
        "    c.append(a[i] + b[i])\n",
        "print(time.time()-start)"
      ]
    },
    {
      "cell_type": "code",
      "execution_count": null,
      "id": "d9bf9cf8-746b-40ad-b25c-375b4e79e365",
      "metadata": {
        "id": "d9bf9cf8-746b-40ad-b25c-375b4e79e365",
        "outputId": "f0adb30f-c4e3-4834-cc5b-79ad6a9bfaa7"
      },
      "outputs": [
        {
          "name": "stdout",
          "output_type": "stream",
          "text": [
            "0.14705801010131836\n"
          ]
        }
      ],
      "source": [
        "# numpy\n",
        "a = np.arange(10000000)\n",
        "b = np.arange(10000000,20000000)\n",
        "start = time.time()\n",
        "c = a+b\n",
        "print(time.time()-start)\n"
      ]
    },
    {
      "cell_type": "code",
      "execution_count": null,
      "id": "3f92e531-fa66-4ee7-875d-faaee81695be",
      "metadata": {
        "id": "3f92e531-fa66-4ee7-875d-faaee81695be",
        "outputId": "f92d426d-56b8-4a4a-d268-1dd41bd2e9c5"
      },
      "outputs": [
        {
          "data": {
            "text/plain": [
              "19.858952409671762"
            ]
          },
          "execution_count": 71,
          "metadata": {},
          "output_type": "execute_result"
        }
      ],
      "source": [
        "2.9204180240631104/0.14705801010131836\n"
      ]
    },
    {
      "cell_type": "code",
      "execution_count": null,
      "id": "91245035-a189-40f9-85c6-6dd19d247207",
      "metadata": {
        "id": "91245035-a189-40f9-85c6-6dd19d247207",
        "outputId": "9c240a1a-f166-4a18-92bf-94e62b95ec6e"
      },
      "outputs": [
        {
          "data": {
            "text/plain": [
              "89095160"
            ]
          },
          "execution_count": 81,
          "metadata": {},
          "output_type": "execute_result"
        }
      ],
      "source": [
        "# memory\n",
        "\n",
        "# 1 --> when we using python\n",
        "a = [ i for i in range(10000000)]\n",
        "import sys\n",
        "sys.getsizeof(a)\n"
      ]
    },
    {
      "cell_type": "code",
      "execution_count": null,
      "id": "6d3fd79f-74ac-45f7-9ab2-0762c909c860",
      "metadata": {
        "id": "6d3fd79f-74ac-45f7-9ab2-0762c909c860",
        "outputId": "d025b357-7dc5-4e78-d585-bd16227f751c"
      },
      "outputs": [
        {
          "data": {
            "text/plain": [
              "10000112"
            ]
          },
          "execution_count": 83,
          "metadata": {},
          "output_type": "execute_result"
        }
      ],
      "source": [
        "# 2 --> when we using numpy\n",
        "a = np.arange(10000000,dtype = np.int8)\n",
        "sys.getsizeof(a)\n"
      ]
    },
    {
      "cell_type": "code",
      "execution_count": null,
      "id": "bee719d9-914b-4bda-b22c-812f0a512219",
      "metadata": {
        "id": "bee719d9-914b-4bda-b22c-812f0a512219"
      },
      "outputs": [],
      "source": []
    },
    {
      "cell_type": "code",
      "execution_count": null,
      "id": "18eb0404-c1c7-44f6-a5ec-ce238d39c6c6",
      "metadata": {
        "id": "18eb0404-c1c7-44f6-a5ec-ce238d39c6c6"
      },
      "outputs": [],
      "source": []
    },
    {
      "cell_type": "code",
      "execution_count": null,
      "id": "91baf38e-425f-4fc1-9d9f-afd356d62587",
      "metadata": {
        "id": "91baf38e-425f-4fc1-9d9f-afd356d62587"
      },
      "outputs": [],
      "source": []
    },
    {
      "cell_type": "markdown",
      "id": "b4829ce4-8377-47e0-9596-1976c6b5bd12",
      "metadata": {
        "id": "b4829ce4-8377-47e0-9596-1976c6b5bd12"
      },
      "source": [
        "# Advanced Indexing"
      ]
    },
    {
      "cell_type": "code",
      "execution_count": null,
      "id": "a11d4fdf-c20d-459e-8adb-4b32987230e7",
      "metadata": {
        "id": "a11d4fdf-c20d-459e-8adb-4b32987230e7",
        "outputId": "bd89465a-2a79-48fa-d5a1-56fdaf17b546"
      },
      "outputs": [
        {
          "data": {
            "text/plain": [
              "array([[ 0,  1,  2],\n",
              "       [ 3,  4,  5],\n",
              "       [ 6,  7,  8],\n",
              "       [ 9, 10, 11]])"
            ]
          },
          "execution_count": 90,
          "metadata": {},
          "output_type": "execute_result"
        }
      ],
      "source": [
        "a = np.arange(12).reshape(4,3)\n",
        "a"
      ]
    },
    {
      "cell_type": "code",
      "execution_count": null,
      "id": "d6e553dd-179a-4261-8914-b0cb35555c11",
      "metadata": {
        "id": "d6e553dd-179a-4261-8914-b0cb35555c11",
        "outputId": "927f23c2-ecf6-4dc2-d910-eb738a879305"
      },
      "outputs": [
        {
          "data": {
            "text/plain": [
              "array([[ 0,  1,  2],\n",
              "       [ 6,  7,  8],\n",
              "       [ 9, 10, 11]])"
            ]
          },
          "execution_count": 92,
          "metadata": {},
          "output_type": "execute_result"
        }
      ],
      "source": [
        "# fancy indexing\n",
        "a[[0,2,3]]"
      ]
    },
    {
      "cell_type": "code",
      "execution_count": null,
      "id": "15e4ecbf-ab7c-4951-9b97-8c56f0af5b89",
      "metadata": {
        "id": "15e4ecbf-ab7c-4951-9b97-8c56f0af5b89",
        "outputId": "34017836-90a3-4323-c0e8-aedaf32cca0c"
      },
      "outputs": [
        {
          "data": {
            "text/plain": [
              "array([[ 1,  2],\n",
              "       [ 4,  5],\n",
              "       [ 7,  8],\n",
              "       [10, 11]])"
            ]
          },
          "execution_count": 94,
          "metadata": {},
          "output_type": "execute_result"
        }
      ],
      "source": [
        "a[:,[1,2]]"
      ]
    },
    {
      "cell_type": "code",
      "execution_count": null,
      "id": "75b45a6c-95c6-4869-9cc2-8fb50e7d4be2",
      "metadata": {
        "id": "75b45a6c-95c6-4869-9cc2-8fb50e7d4be2",
        "outputId": "15bed751-780d-4241-f32a-803290cd8933"
      },
      "outputs": [
        {
          "data": {
            "text/plain": [
              "array([[92, 24, 10, 60],\n",
              "       [91, 44,  7,  6],\n",
              "       [82, 49, 61, 13],\n",
              "       [84, 15, 58, 48],\n",
              "       [84, 93, 50, 25],\n",
              "       [81, 39, 27, 77]])"
            ]
          },
          "execution_count": 100,
          "metadata": {},
          "output_type": "execute_result"
        }
      ],
      "source": [
        "# Boolean indexing  ---------- (important)\n",
        "a = np.random.randint(1,100,24).reshape(6,4)\n",
        "a"
      ]
    },
    {
      "cell_type": "code",
      "execution_count": null,
      "id": "39032861-9ba7-4cee-b6b3-7371689652c8",
      "metadata": {
        "id": "39032861-9ba7-4cee-b6b3-7371689652c8",
        "outputId": "b2b19b63-9186-4db3-f64d-556d231a404a"
      },
      "outputs": [
        {
          "data": {
            "text/plain": [
              "array([92, 60, 91, 82, 61, 84, 58, 84, 93, 81, 77])"
            ]
          },
          "execution_count": 118,
          "metadata": {},
          "output_type": "execute_result"
        }
      ],
      "source": [
        "# find all number greater than 50\n",
        "a[a > 50]"
      ]
    },
    {
      "cell_type": "code",
      "execution_count": null,
      "id": "5af112f7-2f8a-4d69-8cdc-51d42787fd9b",
      "metadata": {
        "id": "5af112f7-2f8a-4d69-8cdc-51d42787fd9b",
        "outputId": "0c64a2c7-c00e-4f11-80eb-f01ba670c095"
      },
      "outputs": [
        {
          "data": {
            "text/plain": [
              "array([92, 24, 10, 60, 44,  6, 82, 84, 58, 48, 84, 50])"
            ]
          },
          "execution_count": 122,
          "metadata": {},
          "output_type": "execute_result"
        }
      ],
      "source": [
        "# find out even numbers\n",
        "a[a%2 == 0]\n"
      ]
    },
    {
      "cell_type": "code",
      "execution_count": null,
      "id": "d2ac8723-9f74-4e61-bf33-9ef695f1f7eb",
      "metadata": {
        "id": "d2ac8723-9f74-4e61-bf33-9ef695f1f7eb",
        "outputId": "51faeee3-1c15-46d0-cfe5-ce3b05224264"
      },
      "outputs": [
        {
          "data": {
            "text/plain": [
              "array([92, 60, 82, 84, 58, 84])"
            ]
          },
          "execution_count": 126,
          "metadata": {},
          "output_type": "execute_result"
        }
      ],
      "source": [
        "# find all number greater than 50 and even\n",
        "a[(a > 50 ) & (a%2 ==0)]"
      ]
    },
    {
      "cell_type": "code",
      "execution_count": null,
      "id": "5ecbe654-9125-4a0c-ae55-c85cc4678a3b",
      "metadata": {
        "id": "5ecbe654-9125-4a0c-ae55-c85cc4678a3b",
        "outputId": "18404cce-c2c9-4f4a-91c1-90994fe31d29"
      },
      "outputs": [
        {
          "data": {
            "text/plain": [
              "array([92, 24, 10, 60, 44,  6, 82, 61, 13, 15, 58, 48, 93, 50, 25, 81, 39,\n",
              "       27])"
            ]
          },
          "execution_count": 130,
          "metadata": {},
          "output_type": "execute_result"
        }
      ],
      "source": [
        "# find all number not divisible by 7\n",
        "a[a%7!=0]"
      ]
    },
    {
      "cell_type": "code",
      "execution_count": null,
      "id": "094d2c49-6a26-4350-b8f6-69d7d14e0c8e",
      "metadata": {
        "id": "094d2c49-6a26-4350-b8f6-69d7d14e0c8e"
      },
      "outputs": [],
      "source": []
    },
    {
      "cell_type": "code",
      "execution_count": null,
      "id": "13e40fc3-3edc-41f1-9aa5-6f82c5d37b0f",
      "metadata": {
        "id": "13e40fc3-3edc-41f1-9aa5-6f82c5d37b0f"
      },
      "outputs": [],
      "source": []
    },
    {
      "cell_type": "markdown",
      "id": "d28a58e4-af1a-46d6-8f1f-f00762389c5f",
      "metadata": {
        "id": "d28a58e4-af1a-46d6-8f1f-f00762389c5f"
      },
      "source": [
        "# Broadcasting"
      ]
    },
    {
      "cell_type": "markdown",
      "id": "53014dbf-f200-4fba-8e18-b4c9c38663cc",
      "metadata": {
        "id": "53014dbf-f200-4fba-8e18-b4c9c38663cc"
      },
      "source": [
        "The term broadcasting how numpy treat array with different shapes during arithmatic operations.\n",
        "The smaller array is \"broadcast\" across the larger array so that they have compatible shapes."
      ]
    },
    {
      "cell_type": "code",
      "execution_count": 17,
      "id": "47736b48-e439-4846-b362-7e1ff523effd",
      "metadata": {
        "colab": {
          "base_uri": "https://localhost:8080/"
        },
        "id": "47736b48-e439-4846-b362-7e1ff523effd",
        "outputId": "fe0e97fa-5633-4ed5-f73d-ab969ad6097f"
      },
      "outputs": [
        {
          "output_type": "stream",
          "name": "stdout",
          "text": [
            "[[0 1 2]\n",
            " [3 4 5]]\n",
            "**************************************************\n",
            "[[ 6  7  8]\n",
            " [ 9 10 11]]\n",
            "**************************************************\n",
            "[[ 6  8 10]\n",
            " [12 14 16]]\n"
          ]
        }
      ],
      "source": [
        "# same shape\n",
        "a = np.arange(6).reshape(2,3)\n",
        "b = np.arange(6,12).reshape(2,3)\n",
        "print(a)\n",
        "print(\"*\"*50)\n",
        "print(b)\n",
        "print(\"*\"*50)\n",
        "print(a+b)"
      ]
    },
    {
      "cell_type": "code",
      "execution_count": 18,
      "id": "e837b108-6fa6-4e65-8e7b-188fc3d0d498",
      "metadata": {
        "colab": {
          "base_uri": "https://localhost:8080/"
        },
        "id": "e837b108-6fa6-4e65-8e7b-188fc3d0d498",
        "outputId": "6a68ac37-66c9-4e54-fa17-3896807ca2c7"
      },
      "outputs": [
        {
          "output_type": "stream",
          "name": "stdout",
          "text": [
            "[[0 1 2]\n",
            " [3 4 5]]\n",
            "**************************************************\n",
            "[[0 1 2]]\n",
            "**************************************************\n",
            "[[0 2 4]\n",
            " [3 5 7]]\n"
          ]
        }
      ],
      "source": [
        "# diff shape\n",
        "a = np.arange(6).reshape(2,3)\n",
        "b = np.arange(3).reshape(1,3)\n",
        "print(a)\n",
        "print(\"*\"*50)\n",
        "print(b)\n",
        "print(\"*\"*50)\n",
        "print(a+b)"
      ]
    },
    {
      "cell_type": "code",
      "execution_count": null,
      "id": "1d0ca1c4-0b38-4043-b9f2-5a1414e1a3c5",
      "metadata": {
        "id": "1d0ca1c4-0b38-4043-b9f2-5a1414e1a3c5"
      },
      "outputs": [],
      "source": []
    },
    {
      "cell_type": "markdown",
      "id": "7294b34b-1d0f-45a0-bb4e-b6e44b43c49a",
      "metadata": {
        "id": "7294b34b-1d0f-45a0-bb4e-b6e44b43c49a"
      },
      "source": [
        "# Broadcasting Rules\n"
      ]
    },
    {
      "cell_type": "markdown",
      "id": "78a3a024-a3b5-41ca-8db9-41cb5d86f1ed",
      "metadata": {
        "id": "78a3a024-a3b5-41ca-8db9-41cb5d86f1ed"
      },
      "source": [
        "1. Make the two arrays have the same number of dimensions.\n",
        "\n",
        "   If the numbers of dimensions of the two arrays are different, add new dimensions with size 1 to the head of the array with the smaller dimension.\n",
        "\n",
        "\n",
        "2. Make each dimension of the two arrays the same size.\n",
        "\n",
        "   If the sizes of each dimension of the two arrays do not match, dimensions with size 1 are stretched to the size of the other array.\n",
        "   If there is a dimension whose size is not 1 in either of the two arrays, it cannot be broadcasted, and an error is raised."
      ]
    },
    {
      "cell_type": "code",
      "execution_count": null,
      "id": "8c3fc0b5-1573-4ae8-bd8d-99eaeca96868",
      "metadata": {
        "id": "8c3fc0b5-1573-4ae8-bd8d-99eaeca96868",
        "outputId": "db5b0bf2-9d66-4d26-e927-1dd751bacb45"
      },
      "outputs": [
        {
          "name": "stdout",
          "output_type": "stream",
          "text": [
            "[[ 0  1  2]\n",
            " [ 3  4  5]\n",
            " [ 6  7  8]\n",
            " [ 9 10 11]]\n",
            "[0 1 2]\n",
            "[[ 0  2  4]\n",
            " [ 3  5  7]\n",
            " [ 6  8 10]\n",
            " [ 9 11 13]]\n"
          ]
        }
      ],
      "source": [
        "# More examples\n",
        "\n",
        "a = np.arange(12).reshape(4,3)\n",
        "b = np.arange(3)\n",
        "\n",
        "print(a)\n",
        "print(b)\n",
        "\n",
        "print(a+b)"
      ]
    },
    {
      "cell_type": "code",
      "execution_count": null,
      "id": "d0aa4508-1108-45fe-a6ae-a947ff560f90",
      "metadata": {
        "id": "d0aa4508-1108-45fe-a6ae-a947ff560f90",
        "outputId": "2a12746d-0aa3-4b2b-dff2-05a3c1b77168"
      },
      "outputs": [
        {
          "name": "stdout",
          "output_type": "stream",
          "text": [
            "[[0 1 2]]\n",
            "[[0]\n",
            " [1]\n",
            " [2]]\n",
            "[[0 1 2]\n",
            " [1 2 3]\n",
            " [2 3 4]]\n"
          ]
        }
      ],
      "source": [
        "a = np.arange(3).reshape(1,3)\n",
        "b = np.arange(3).reshape(3,1)\n",
        "\n",
        "print(a)\n",
        "print(b)\n",
        "\n",
        "print(a+b)"
      ]
    },
    {
      "cell_type": "code",
      "execution_count": null,
      "id": "bdb776c8-6259-4ab8-9988-05dfe7222fc4",
      "metadata": {
        "id": "bdb776c8-6259-4ab8-9988-05dfe7222fc4",
        "outputId": "22815961-d3b7-4f1b-fe6b-5946bd4c40bb"
      },
      "outputs": [
        {
          "name": "stdout",
          "output_type": "stream",
          "text": [
            "[[0 1 2]]\n",
            "[[0]\n",
            " [1]\n",
            " [2]\n",
            " [3]]\n",
            "[[0 1 2]\n",
            " [1 2 3]\n",
            " [2 3 4]\n",
            " [3 4 5]]\n"
          ]
        }
      ],
      "source": [
        "a = np.arange(3).reshape(1,3)\n",
        "b = np.arange(4).reshape(4,1)\n",
        "\n",
        "print(a)\n",
        "print(b)\n",
        "\n",
        "print(a + b)"
      ]
    },
    {
      "cell_type": "code",
      "execution_count": null,
      "id": "6b426b1c-6808-4b98-8df7-0fbe15bc3bf9",
      "metadata": {
        "id": "6b426b1c-6808-4b98-8df7-0fbe15bc3bf9",
        "outputId": "07cb9185-b3c5-472c-c2e3-2b0130166ee5"
      },
      "outputs": [
        {
          "name": "stdout",
          "output_type": "stream",
          "text": [
            "[1]\n",
            "[[0 1]\n",
            " [2 3]]\n",
            "[[1 2]\n",
            " [3 4]]\n"
          ]
        }
      ],
      "source": [
        "a = np.array([1])\n",
        "# shape -> (1,1)\n",
        "b = np.arange(4).reshape(2,2)\n",
        "# shape -> (2,2)\n",
        "\n",
        "print(a)\n",
        "print(b)\n",
        "\n",
        "print(a+b)"
      ]
    },
    {
      "cell_type": "code",
      "execution_count": null,
      "id": "9ee1fd54-fa64-425c-8b54-a0ac33c3ee9d",
      "metadata": {
        "id": "9ee1fd54-fa64-425c-8b54-a0ac33c3ee9d"
      },
      "outputs": [],
      "source": []
    },
    {
      "cell_type": "code",
      "execution_count": null,
      "id": "79683e66-e1c8-499c-84a5-31f05ef1b15b",
      "metadata": {
        "id": "79683e66-e1c8-499c-84a5-31f05ef1b15b"
      },
      "outputs": [],
      "source": []
    },
    {
      "cell_type": "markdown",
      "id": "377e0546-44bd-431b-a709-8ecd84d82f6a",
      "metadata": {
        "id": "377e0546-44bd-431b-a709-8ecd84d82f6a"
      },
      "source": [
        "# working with mathematical formulas"
      ]
    },
    {
      "cell_type": "code",
      "execution_count": null,
      "id": "c9d9dca6-b535-4ed8-ba6b-fd93c558e197",
      "metadata": {
        "id": "c9d9dca6-b535-4ed8-ba6b-fd93c558e197",
        "outputId": "4b31bc9f-d2c0-461e-997e-11e88d68dead"
      },
      "outputs": [
        {
          "data": {
            "text/plain": [
              "array([ 0.        ,  0.84147098,  0.90929743,  0.14112001, -0.7568025 ,\n",
              "       -0.95892427, -0.2794155 ,  0.6569866 ,  0.98935825,  0.41211849])"
            ]
          },
          "execution_count": 165,
          "metadata": {},
          "output_type": "execute_result"
        }
      ],
      "source": [
        "a = np.arange(10)\n",
        "np.sin(a)"
      ]
    },
    {
      "cell_type": "code",
      "execution_count": null,
      "id": "2be16e73-2f89-47c1-b395-20d32d30e071",
      "metadata": {
        "id": "2be16e73-2f89-47c1-b395-20d32d30e071",
        "outputId": "5b829357-6e88-4f44-8fbf-a4ab87190e00"
      },
      "outputs": [
        {
          "data": {
            "text/plain": [
              "array([0.5       , 0.73105858, 0.88079708, 0.95257413, 0.98201379,\n",
              "       0.99330715, 0.99752738, 0.99908895, 0.99966465, 0.99987661])"
            ]
          },
          "execution_count": 178,
          "metadata": {},
          "output_type": "execute_result"
        }
      ],
      "source": [
        "# sigmoid (occur between 0 or 1)\n",
        "def sigmoid(array):\n",
        "    return 1/(1 + np.exp(-(array)))\n",
        "\n",
        "a = np.arange(10)\n",
        "sigmoid(a)\n"
      ]
    },
    {
      "cell_type": "code",
      "execution_count": null,
      "id": "190f60e1-a0bd-4c35-ad98-ccaba934cc76",
      "metadata": {
        "id": "190f60e1-a0bd-4c35-ad98-ccaba934cc76"
      },
      "outputs": [],
      "source": [
        "# mean squarred error\n",
        "actual = np.random.randint(1,50,25)\n",
        "predicted = np.random.randint(1,50,25)"
      ]
    },
    {
      "cell_type": "code",
      "execution_count": null,
      "id": "6d666cea-94fa-4dc9-8109-4ee6a484ca74",
      "metadata": {
        "id": "6d666cea-94fa-4dc9-8109-4ee6a484ca74",
        "outputId": "9d39d754-0fb5-4172-80e6-b5e26f643774"
      },
      "outputs": [
        {
          "data": {
            "text/plain": [
              "array([24, 22,  7, 33, 29, 34, 37, 48, 20, 41, 13, 41, 47, 33, 22, 36,  8,\n",
              "       18, 27, 19,  2, 36,  9, 15, 16])"
            ]
          },
          "execution_count": 209,
          "metadata": {},
          "output_type": "execute_result"
        }
      ],
      "source": [
        "predicted"
      ]
    },
    {
      "cell_type": "code",
      "execution_count": null,
      "id": "01c9111d-f6cf-46ab-a061-0c66d85732a6",
      "metadata": {
        "id": "01c9111d-f6cf-46ab-a061-0c66d85732a6",
        "outputId": "00d18db5-aaa5-4093-8675-49fc62c937b5"
      },
      "outputs": [
        {
          "data": {
            "text/plain": [
              "array([11, 43, 36, 45, 35, 19, 11, 35, 43, 47, 25, 25, 35,  7, 41, 17, 33,\n",
              "        7,  6, 22, 49, 47, 12, 11, 39])"
            ]
          },
          "execution_count": 211,
          "metadata": {},
          "output_type": "execute_result"
        }
      ],
      "source": [
        "actual"
      ]
    },
    {
      "cell_type": "code",
      "execution_count": null,
      "id": "dff75a0c-e270-49e2-b886-8b11e3769e5d",
      "metadata": {
        "id": "dff75a0c-e270-49e2-b886-8b11e3769e5d",
        "outputId": "36590752-ffe3-4aac-a831-dc9d8579e6e3"
      },
      "outputs": [
        {
          "data": {
            "text/plain": [
              "371.52"
            ]
          },
          "execution_count": 213,
          "metadata": {},
          "output_type": "execute_result"
        }
      ],
      "source": [
        "def mse(actual,predicted):\n",
        "    return np.mean((actual - predicted)**2)\n",
        "\n",
        "mse(actual,predicted)"
      ]
    },
    {
      "cell_type": "code",
      "execution_count": null,
      "id": "6298904a-b775-473d-b03b-9315e7c50cd4",
      "metadata": {
        "id": "6298904a-b775-473d-b03b-9315e7c50cd4"
      },
      "outputs": [],
      "source": []
    },
    {
      "cell_type": "markdown",
      "id": "444e3711-f3ed-4f47-8905-c5c4fe1dda50",
      "metadata": {
        "id": "444e3711-f3ed-4f47-8905-c5c4fe1dda50"
      },
      "source": [
        "# working with missing values -> np.nan"
      ]
    },
    {
      "cell_type": "code",
      "execution_count": null,
      "id": "6286e6b2-c1a7-43eb-847d-d4baacef9761",
      "metadata": {
        "id": "6286e6b2-c1a7-43eb-847d-d4baacef9761",
        "outputId": "cc2fcebb-18a3-4873-9dc7-c36a1e364a45"
      },
      "outputs": [
        {
          "data": {
            "text/plain": [
              "array([ 1.,  2.,  3.,  4., nan,  6.])"
            ]
          },
          "execution_count": 221,
          "metadata": {},
          "output_type": "execute_result"
        }
      ],
      "source": [
        "# Working with missing values -> np.nan\n",
        "a = np.array([1,2,3,4,np.nan,6])\n",
        "a"
      ]
    },
    {
      "cell_type": "code",
      "execution_count": null,
      "id": "144746b6-03a0-4cd9-9842-d5bc6f003580",
      "metadata": {
        "id": "144746b6-03a0-4cd9-9842-d5bc6f003580",
        "outputId": "a68e1113-fbd8-4436-dfc2-4318b42d0fde"
      },
      "outputs": [
        {
          "data": {
            "text/plain": [
              "array([1., 2., 3., 4., 6.])"
            ]
          },
          "execution_count": 217,
          "metadata": {},
          "output_type": "execute_result"
        }
      ],
      "source": [
        "a[~np.isnan(a)]"
      ]
    },
    {
      "cell_type": "code",
      "execution_count": null,
      "id": "5c41cddf-a6c5-4bb4-aa47-b457e7dad74c",
      "metadata": {
        "id": "5c41cddf-a6c5-4bb4-aa47-b457e7dad74c",
        "outputId": "30296a27-9fbf-4d26-ca9f-951c437b4930"
      },
      "outputs": [
        {
          "data": {
            "text/plain": [
              "1"
            ]
          },
          "execution_count": 237,
          "metadata": {},
          "output_type": "execute_result"
        }
      ],
      "source": [
        "np.isnan(a).sum()"
      ]
    },
    {
      "cell_type": "code",
      "execution_count": null,
      "id": "4883e6d9-508c-49ec-b286-36a8bf94eb74",
      "metadata": {
        "id": "4883e6d9-508c-49ec-b286-36a8bf94eb74"
      },
      "outputs": [],
      "source": []
    },
    {
      "cell_type": "code",
      "execution_count": null,
      "id": "ff074aa2-6dc5-4260-bba4-1158e29b789d",
      "metadata": {
        "id": "ff074aa2-6dc5-4260-bba4-1158e29b789d"
      },
      "outputs": [],
      "source": []
    },
    {
      "cell_type": "markdown",
      "id": "2023dafd-7921-4ad6-8f3f-05712dd75116",
      "metadata": {
        "id": "2023dafd-7921-4ad6-8f3f-05712dd75116"
      },
      "source": [
        "# Some other methods"
      ]
    },
    {
      "cell_type": "markdown",
      "source": [
        "This is simple type of sorting where we sort any value in incr order or dec order using sort() function"
      ],
      "metadata": {
        "id": "CMM3TzsIfhzu"
      },
      "id": "CMM3TzsIfhzu"
    },
    {
      "cell_type": "code",
      "execution_count": null,
      "id": "48db4db6-f8f1-471f-83ad-2004c62a2dff",
      "metadata": {
        "id": "48db4db6-f8f1-471f-83ad-2004c62a2dff",
        "outputId": "896c3d5c-2e6a-4af2-b996-8bb4b5aecc01"
      },
      "outputs": [
        {
          "data": {
            "text/plain": [
              "array([ 9, 11, 12, 17, 17, 18, 26, 36, 69, 88, 94, 95])"
            ]
          },
          "execution_count": 25,
          "metadata": {},
          "output_type": "execute_result"
        }
      ],
      "source": [
        "# sorting\n",
        "a = np.random.randint(1,100,12)\n",
        "np.sort(a)"
      ]
    },
    {
      "cell_type": "markdown",
      "source": [
        "When we want to sort value, there is two way to sort value\n",
        "\n",
        "\n",
        "*   Using Row where we put axis=0\n",
        "*   Using Column where we put axis=1\n",
        "\n"
      ],
      "metadata": {
        "id": "jnkkCV_xfLPX"
      },
      "id": "jnkkCV_xfLPX"
    },
    {
      "cell_type": "code",
      "execution_count": 16,
      "id": "3dc44de9-16af-49ab-b802-3bfc1b40a68c",
      "metadata": {
        "colab": {
          "base_uri": "https://localhost:8080/"
        },
        "id": "3dc44de9-16af-49ab-b802-3bfc1b40a68c",
        "outputId": "53be54bf-c791-4f80-f3c2-23146c463786"
      },
      "outputs": [
        {
          "output_type": "execute_result",
          "data": {
            "text/plain": [
              "array([[12, 11, 62,  9],\n",
              "       [34, 15, 71, 16],\n",
              "       [47, 25, 78, 25],\n",
              "       [68, 65, 80, 34],\n",
              "       [83, 72, 96, 79],\n",
              "       [93, 89, 98, 87]])"
            ]
          },
          "metadata": {},
          "execution_count": 16
        }
      ],
      "source": [
        "# sorting\n",
        "b= np.random.randint(1,100,24).reshape(6,4)\n",
        "np.sort(b,axis=0)"
      ]
    },
    {
      "cell_type": "markdown",
      "source": [
        "Append values to the end of an array."
      ],
      "metadata": {
        "id": "ArZiM7Ime1K-"
      },
      "id": "ArZiM7Ime1K-"
    },
    {
      "cell_type": "code",
      "execution_count": null,
      "id": "975f2255-f288-48fe-bb58-1b48c6b1b63b",
      "metadata": {
        "id": "975f2255-f288-48fe-bb58-1b48c6b1b63b",
        "outputId": "48c8e1e2-c51f-40d1-c398-b20d32466678"
      },
      "outputs": [
        {
          "data": {
            "text/plain": [
              "array([ 17,  17,  12,  26,   9,  69,  94,  18,  88,  36,  11,  95, 200])"
            ]
          },
          "execution_count": 29,
          "metadata": {},
          "output_type": "execute_result"
        }
      ],
      "source": [
        "# append\n",
        "np.append(a,200)"
      ]
    },
    {
      "cell_type": "code",
      "execution_count": null,
      "id": "18c38be3-8d53-402a-b76b-cd8ccad5c689",
      "metadata": {
        "id": "18c38be3-8d53-402a-b76b-cd8ccad5c689",
        "outputId": "2a05fe2d-9579-4c40-9689-578eb23fead0"
      },
      "outputs": [
        {
          "data": {
            "text/plain": [
              "array([[5.20000000e+01, 6.40000000e+01, 5.60000000e+01, 8.00000000e+01,\n",
              "        2.85113919e-02],\n",
              "       [6.00000000e+00, 4.00000000e+01, 1.70000000e+01, 2.30000000e+01,\n",
              "        5.06198386e-01],\n",
              "       [2.30000000e+01, 8.00000000e+01, 7.20000000e+01, 3.00000000e+00,\n",
              "        9.15612288e-01],\n",
              "       [4.20000000e+01, 2.50000000e+01, 7.30000000e+01, 4.30000000e+01,\n",
              "        9.37391228e-01],\n",
              "       [2.90000000e+01, 2.20000000e+01, 8.50000000e+01, 6.10000000e+01,\n",
              "        7.14930956e-01],\n",
              "       [1.30000000e+01, 2.00000000e+01, 2.10000000e+01, 1.60000000e+01,\n",
              "        7.51249861e-01]])"
            ]
          },
          "execution_count": 37,
          "metadata": {},
          "output_type": "execute_result"
        }
      ],
      "source": [
        "np.append(b,np.random.random((b.shape[0],1)),axis=1)"
      ]
    },
    {
      "cell_type": "code",
      "execution_count": null,
      "id": "8ad1542b-b94e-4df8-a236-440455298d46",
      "metadata": {
        "id": "8ad1542b-b94e-4df8-a236-440455298d46"
      },
      "outputs": [],
      "source": [
        "# concatenate\n"
      ]
    },
    {
      "cell_type": "code",
      "execution_count": null,
      "id": "87cc507a-2fbc-4e6e-b3cb-0544027e01f2",
      "metadata": {
        "id": "87cc507a-2fbc-4e6e-b3cb-0544027e01f2"
      },
      "outputs": [],
      "source": []
    }
  ],
  "metadata": {
    "kernelspec": {
      "display_name": "Python [conda env:base] *",
      "language": "python",
      "name": "conda-base-py"
    },
    "language_info": {
      "codemirror_mode": {
        "name": "ipython",
        "version": 3
      },
      "file_extension": ".py",
      "mimetype": "text/x-python",
      "name": "python",
      "nbconvert_exporter": "python",
      "pygments_lexer": "ipython3",
      "version": "3.12.7"
    },
    "colab": {
      "provenance": [],
      "include_colab_link": true
    }
  },
  "nbformat": 4,
  "nbformat_minor": 5
}